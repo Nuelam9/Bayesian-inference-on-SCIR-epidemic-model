{
 "cells": [
  {
   "cell_type": "markdown",
   "metadata": {},
   "source": [
    "# To do:\n",
    "1. Aggiungere date esami mancanti\n",
    "2. Oridine: MB, (As, DDA), MQ, ML\n",
    "\n",
    "\n",
    "# Organizzazione studio materie mancanti\n",
    "1. **metodi probabilistici**:\n",
    "<br>    riscrivere a monte e lavorare alla tesina per dopo settembre\n",
    "<br>\n",
    "\n",
    "2. **as**:\n",
    "<br>\n",
    "&emsp;    importante: scrivere fne esplicitamente da link notebook FIt_covid con referenza (subito dopo metodi)\n",
    "<br>\n",
    "&emsp;    simulazioni: vedere limite iterazioni\n",
    "<br>\n",
    "&emsp;    finire studiare lezioni\n",
    "<br>\n",
    "&emsp;    finire presentazione: semplificare + roba teoria ML, intervallo date (linee verticali) con t0,  tq, tX0, markovianità, discorso inglese, eq Gibbs, video inferenza Bayes, likelihood ed errore (provare a scrivere con numba tutto l'algoritmo)\n",
    "<br>\n",
    "&emsp;    quantificare: ...\n",
    "3. **dda**:\n",
    "<br>\n",
    "&emsp;    finire report 1 e 2 (psf fare previsione)\n",
    "<br>\n",
    "&emsp;    sistemare fit multivariato gauss\n",
    "<br>\n",
    "&emsp;    presentazione su articolo\n",
    "<br>\n",
    "&emsp;    studio teoria\n",
    "\n",
    "4. **ML**:\n",
    "<br>    lavorare al progetto e studiare teoria\n",
    "5. **MQ2**:\n",
    "<br>    finire schemi capitolo 4 e parte pace"
   ]
  },
  {
   "cell_type": "code",
   "execution_count": 1,
   "metadata": {},
   "outputs": [],
   "source": [
    "import pandas as pd\n",
    "import numpy as np\n",
    "import matplotlib.pyplot as plt"
   ]
  },
  {
   "cell_type": "code",
   "execution_count": 2,
   "metadata": {},
   "outputs": [
    {
     "data": {
      "text/html": [
       "<div>\n",
       "<style scoped>\n",
       "    .dataframe tbody tr th:only-of-type {\n",
       "        vertical-align: middle;\n",
       "    }\n",
       "\n",
       "    .dataframe tbody tr th {\n",
       "        vertical-align: top;\n",
       "    }\n",
       "\n",
       "    .dataframe thead th {\n",
       "        text-align: right;\n",
       "    }\n",
       "</style>\n",
       "<table border=\"1\" class=\"dataframe\">\n",
       "  <thead>\n",
       "    <tr style=\"text-align: right;\">\n",
       "      <th></th>\n",
       "      <th>AS</th>\n",
       "      <th>DDA</th>\n",
       "      <th>ML</th>\n",
       "      <th>MB</th>\n",
       "      <th>MQ</th>\n",
       "    </tr>\n",
       "  </thead>\n",
       "  <tbody>\n",
       "    <tr>\n",
       "      <th>0</th>\n",
       "      <td>2022-02-02</td>\n",
       "      <td>2022-02-09</td>\n",
       "      <td>NaT</td>\n",
       "      <td>NaT</td>\n",
       "      <td>2022-02-04</td>\n",
       "    </tr>\n",
       "    <tr>\n",
       "      <th>1</th>\n",
       "      <td>2022-02-23</td>\n",
       "      <td>2022-02-23</td>\n",
       "      <td>NaT</td>\n",
       "      <td>NaT</td>\n",
       "      <td>2022-02-21</td>\n",
       "    </tr>\n",
       "  </tbody>\n",
       "</table>\n",
       "</div>"
      ],
      "text/plain": [
       "          AS        DDA  ML  MB         MQ\n",
       "0 2022-02-02 2022-02-09 NaT NaT 2022-02-04\n",
       "1 2022-02-23 2022-02-23 NaT NaT 2022-02-21"
      ]
     },
     "execution_count": 2,
     "metadata": {},
     "output_type": "execute_result"
    }
   ],
   "source": [
    "# Add exame's dates dictonary\n",
    "dic = {\n",
    "    'AS': ['02/02/2022', '23/02/2022'],\n",
    "    'DDA': ['09/02/2022', '23/02/2022'],\n",
    "    'ML': [pd.NaT, pd.NaT],\n",
    "    'MB': [pd.NaT, pd.NaT],\n",
    "    'MQ': ['04/02/2022', '21/02/2022'],\n",
    "}\n",
    "\n",
    "# Add cfu dictonary\n",
    "cfus = {\n",
    "    'MQ': 8.,\n",
    "    'AS': 10.,\n",
    "    'DDA': 8.,\n",
    "    'ML': 9.,\n",
    "    'MB': 6.\n",
    "}\n",
    "\n",
    "df = pd.DataFrame(dic).T\n",
    "for ind in df.index:\n",
    "    df.loc[ind, :] = pd.to_datetime(df.loc[ind, :], format='%d/%m/%Y')\n",
    "\n",
    "df.T"
   ]
  },
  {
   "cell_type": "code",
   "execution_count": 3,
   "metadata": {},
   "outputs": [
    {
     "data": {
      "text/html": [
       "<div>\n",
       "<style scoped>\n",
       "    .dataframe tbody tr th:only-of-type {\n",
       "        vertical-align: middle;\n",
       "    }\n",
       "\n",
       "    .dataframe tbody tr th {\n",
       "        vertical-align: top;\n",
       "    }\n",
       "\n",
       "    .dataframe thead th {\n",
       "        text-align: right;\n",
       "    }\n",
       "</style>\n",
       "<table border=\"1\" class=\"dataframe\">\n",
       "  <thead>\n",
       "    <tr style=\"text-align: right;\">\n",
       "      <th></th>\n",
       "      <th>AS</th>\n",
       "      <th>MQ</th>\n",
       "      <th>DDA</th>\n",
       "    </tr>\n",
       "  </thead>\n",
       "  <tbody>\n",
       "    <tr>\n",
       "      <th>1</th>\n",
       "      <td>6d 8h 31m</td>\n",
       "      <td>4d 8h 31m</td>\n",
       "      <td>6d 8h 31m</td>\n",
       "    </tr>\n",
       "  </tbody>\n",
       "</table>\n",
       "</div>"
      ],
      "text/plain": [
       "          AS         MQ        DDA\n",
       "1  6d 8h 31m  4d 8h 31m  6d 8h 31m"
      ]
     },
     "execution_count": 3,
     "metadata": {},
     "output_type": "execute_result"
    }
   ],
   "source": [
    "def days_hours_minutes(td):\n",
    "    string = f'{td.days}d {td.seconds//3600}h {(td.seconds//60)%60}m'\n",
    "    return string\n",
    "\n",
    "\n",
    "df1 = df.copy()\n",
    "m = len(df1.columns)\n",
    "\n",
    "for i in range(m):\n",
    "    for j, subject in enumerate(df1.index):\n",
    "        delta = df.loc[subject, i] - pd.Timestamp.today()\n",
    "        df1.iloc[j, i] = days_hours_minutes(delta)\n",
    "\n",
    "df1 = df1.replace('nand, nanh, nanm', 'nan')\n",
    "\n",
    "df1.loc[['AS', 'MQ', 'DDA'], 1:].T"
   ]
  },
  {
   "cell_type": "code",
   "execution_count": 4,
   "metadata": {},
   "outputs": [],
   "source": [
    "def get_seconds(time_str):\n",
    "    # split in hh, mm, ss\n",
    "    hh, mm, ss = time_str.split(':')\n",
    "    return int(hh) * 3600 + int(mm) * 60 + int(ss)"
   ]
  },
  {
   "cell_type": "markdown",
   "metadata": {},
   "source": [
    "# AS"
   ]
  },
  {
   "cell_type": "code",
   "execution_count": 5,
   "metadata": {},
   "outputs": [
    {
     "data": {
      "text/plain": [
       "<matplotlib.axes._subplots.AxesSubplot at 0x249bf099be0>"
      ]
     },
     "execution_count": 5,
     "metadata": {},
     "output_type": "execute_result"
    },
    {
     "data": {
      "text/plain": [
       "<Figure size 720x720 with 0 Axes>"
      ]
     },
     "metadata": {},
     "output_type": "display_data"
    },
    {
     "data": {
      "image/png": "[encoded data removed]",
      "text/plain": [
       "<Figure size 432x288 with 1 Axes>"
      ]
     },
     "metadata": {
      "needs_background": "light"
     },
     "output_type": "display_data"
    }
   ],
   "source": [
    "plt.figure(figsize=(10, 10))\n",
    "tmp = pd.read_csv(\"../Advanced-statistics/ppt/lezioni_AS.txt\", sep=\";\",\n",
    "                  names=['arg', 'time', 'pag'])\n",
    "\n",
    "tmp['weight'] = list(map(get_seconds, tmp['time'])) / tmp['pag']\n",
    "tmp['weight'] /= tmp.weight.max()\n",
    "\n",
    "tmp[['weight']].plot(kind='bar')"
   ]
  },
  {
   "cell_type": "markdown",
   "metadata": {},
   "source": [
    "# MQ2"
   ]
  },
  {
   "cell_type": "code",
   "execution_count": 6,
   "metadata": {},
   "outputs": [
    {
     "data": {
      "text/plain": [
       "array([  3,   4,   5,   6,   8,   9,  10,  12,  13,  14,  18,  19,  20,\n",
       "        21,  22,  23,  24,  25,  26,  27,  28,  29,  30,  31,  32,  33,\n",
       "        34,  35,  39,  40,  41,  42,  43,  44,  45,  46,  47,  48,  49,\n",
       "        50,  51,  52,  53,  60,  61,  62,  63,  64,  65,  66,  67,  68,\n",
       "        69,  70,  71,  72,  73,  74,  75,  76,  77,  78,  79,  80,  81,\n",
       "        82,  83,  84,  85,  86,  39,  40,  41,  42,  43,  44,  45,  46,\n",
       "        47,  48,  49,  50,  51,  52,  53, 161, 162, 163, 164, 165, 166,\n",
       "       167, 168, 169, 170, 171, 172, 173, 174, 175, 176, 177, 178, 179,\n",
       "       180, 181, 182, 183, 184, 185, 186, 187, 188, 189, 190, 191, 192,\n",
       "       193, 194, 195, 196, 197, 198, 199, 200, 201, 202, 203, 204, 205,\n",
       "       206, 207, 208, 209, 210, 211, 212, 213, 214, 215, 216, 217, 218,\n",
       "       219, 220, 221, 222, 223, 224, 225])"
      ]
     },
     "execution_count": 6,
     "metadata": {},
     "output_type": "execute_result"
    }
   ],
   "source": [
    "pags = np.concatenate((\n",
    "    np.arange(3, 7),\n",
    "    np.arange(8, 11),\n",
    "    np.arange(12, 15),\n",
    "    np.arange(18, 36),\n",
    "    np.arange(39, 54),\n",
    "    np.arange(60, 87),\n",
    "    np.arange(39, 54),\n",
    "    np.arange(161, 226)\n",
    "    ))\n",
    "\n",
    "pags"
   ]
  },
  {
   "cell_type": "code",
   "execution_count": 7,
   "metadata": {},
   "outputs": [
    {
     "ename": "TypeError",
     "evalue": "slice indices must be integers or None or have an __index__ method",
     "output_type": "error",
     "traceback": [
      "\u001b[1;31m---------------------------------------------------------------------------\u001b[0m",
      "\u001b[1;31mTypeError\u001b[0m                                 Traceback (most recent call last)",
      "\u001b[1;32m<ipython-input-7-99d6d553d6f6>\u001b[0m in \u001b[0;36m<module>\u001b[1;34m\u001b[0m\n\u001b[0;32m      2\u001b[0m \u001b[0mind2\u001b[0m \u001b[1;33m=\u001b[0m \u001b[0mnp\u001b[0m\u001b[1;33m.\u001b[0m\u001b[0mwhere\u001b[0m\u001b[1;33m(\u001b[0m\u001b[0mpags\u001b[0m\u001b[1;33m==\u001b[0m\u001b[1;36m86\u001b[0m\u001b[1;33m)\u001b[0m\u001b[1;33m[\u001b[0m\u001b[1;36m0\u001b[0m\u001b[1;33m]\u001b[0m\u001b[1;33m[\u001b[0m\u001b[1;36m0\u001b[0m\u001b[1;33m]\u001b[0m\u001b[1;33m\u001b[0m\u001b[1;33m\u001b[0m\u001b[0m\n\u001b[0;32m      3\u001b[0m \u001b[1;33m\u001b[0m\u001b[0m\n\u001b[1;32m----> 4\u001b[1;33m \u001b[0mlen\u001b[0m\u001b[1;33m(\u001b[0m\u001b[0mpags\u001b[0m\u001b[1;33m[\u001b[0m\u001b[0mind\u001b[0m\u001b[1;33m:\u001b[0m\u001b[0mind2\u001b[0m\u001b[1;33m]\u001b[0m\u001b[1;33m)\u001b[0m \u001b[1;33m/\u001b[0m \u001b[1;36m5\u001b[0m\u001b[1;33m\u001b[0m\u001b[1;33m\u001b[0m\u001b[0m\n\u001b[0m",
      "\u001b[1;31mTypeError\u001b[0m: slice indices must be integers or None or have an __index__ method"
     ]
    }
   ],
   "source": [
    "ind1 = np.where(pags==67)[0][0]\n",
    "ind2 = np.where(pags==86)[0][0]\n",
    "\n",
    "len(pags[ind:ind2]) / 5"
   ]
  },
  {
   "cell_type": "code",
   "execution_count": null,
   "metadata": {},
   "outputs": [],
   "source": [
    "def pages_interval(pags: np.ndarray, pag_done: int, t_rem: int) -> None:\n",
    "    n = len(pags)\n",
    "    pag_day = int(round((n - pag_done) / t_rem))\n",
    "    print(f'{n - pag_done} pags remaing, to do in {t_rem} days')\n",
    "    print(f'{pag_day} pages/day \\n')\n",
    "    i = 1\n",
    "    while pag_day*i<=n:\n",
    "        h = pag_done\n",
    "        k = pag_done + pag_day*i\n",
    "        print(pags[h:k][-1])\n",
    "        i += 1"
   ]
  },
  {
   "cell_type": "code",
   "execution_count": null,
   "metadata": {},
   "outputs": [
    {
     "name": "stdout",
     "output_type": "stream",
     "text": [
      "129 pags remaing, to do in 6 days\n",
      "22 pages/day \n",
      "\n",
      "53\n",
      "81\n",
      "162\n",
      "184\n",
      "206\n",
      "225\n"
     ]
    }
   ],
   "source": [
    "t_rem = int(df1.loc['MQ', 1:].T.to_list()[0].split('d')[0])\n",
    "\n",
    "pages_interval(pags, 21, t_rem)"
   ]
  },
  {
   "cell_type": "code",
   "execution_count": null,
   "metadata": {},
   "outputs": [],
   "source": []
  }
 ],
 "metadata": {
  "interpreter": {
   "hash": "6419de5ba52feecbb0344f9577d8821a2c03ea98058628cdb6e40307adf4f26c"
  },
  "kernelspec": {
   "display_name": "Python 3.8.7 64-bit",
   "name": "python3"
  },
  "language_info": {
   "codemirror_mode": {
    "name": "ipython",
    "version": 3
   },
   "file_extension": ".py",
   "mimetype": "text/x-python",
   "name": "python",
   "nbconvert_exporter": "python",
   "pygments_lexer": "ipython3",
   "version": "3.8.2"
  },
  "toc": {
   "base_numbering": 1,
   "nav_menu": {},
   "number_sections": true,
   "sideBar": true,
   "skip_h1_title": false,
   "title_cell": "Table of Contents",
   "title_sidebar": "Contents",
   "toc_cell": false,
   "toc_position": {},
   "toc_section_display": true,
   "toc_window_display": false
  }
 },
 "nbformat": 4,
 "nbformat_minor": 4
}
