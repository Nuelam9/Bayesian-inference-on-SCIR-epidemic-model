{
 "cells": [
  {
   "cell_type": "markdown",
   "metadata": {},
   "source": [
    "# To do:\n",
    "1. Aggiungere date esami mancanti\n",
    "2. Oridine: MB, IT, (As, DDA), MQ, ML\n",
    "\n",
    "\n",
    "# Organizzazione studio materie mancanti\n",
    "1. **metodi probabilistici**:\n",
    "<br>    riscrivere a monte e lavorare alla tesina per dopo settembre\n",
    "<br>\n",
    "\n",
    "2. **Information theory**:\n",
    "<br>   stare al passo con gli assignements\n",
    "<br>\n",
    "\n",
    "3. **as**:\n",
    "<br>\n",
    "&emsp;    importante: scrivere fne esplicitamente da link notebook FIt_covid con referenza (subito dopo metodi)\n",
    "<br>\n",
    "&emsp;    simulazioni: vedere limite iterazioni\n",
    "<br>\n",
    "&emsp;    finire studiare lezioni\n",
    "<br>\n",
    "&emsp;    finire presentazione: semplificare + roba teoria ML, intervallo date (linee verticali) con t0,  tq, tX0, markovianità, discorso inglese, eq Gibbs, video inferenza Bayes, likelihood ed errore (provare a scrivere con numba tutto l'algoritmo)\n",
    "<br>\n",
    "&emsp;    quantificare: ...\n",
    "4. **dda**:\n",
    "<br>\n",
    "&emsp;    finire report 3\n",
    "<br>\n",
    "&emsp;    sistemare fit multivariato gauss\n",
    "<br>\n",
    "&emsp;    relazione 1, 2, 3\n",
    "<br>\n",
    "&emsp;    presentazione su articolo\n",
    "<br>\n",
    "&emsp;    studio teoria\n",
    "\n",
    "5. **ML**:\n",
    "<br>    lavorare al progetto e studiare teoria\n",
    "6. **MQ2**:\n",
    "<br>    in pari con le lezioni e fare schemi/riassunti, segnando cose capite e non"
   ]
  },
  {
   "cell_type": "code",
   "execution_count": 1,
   "metadata": {},
   "outputs": [],
   "source": [
    "import pandas as pd\n",
    "import numpy as np"
   ]
  },
  {
   "cell_type": "code",
   "execution_count": 2,
   "metadata": {},
   "outputs": [
    {
     "data": {
      "text/html": [
       "<div>\n",
       "<style scoped>\n",
       "    .dataframe tbody tr th:only-of-type {\n",
       "        vertical-align: middle;\n",
       "    }\n",
       "\n",
       "    .dataframe tbody tr th {\n",
       "        vertical-align: top;\n",
       "    }\n",
       "\n",
       "    .dataframe thead th {\n",
       "        text-align: right;\n",
       "    }\n",
       "</style>\n",
       "<table border=\"1\" class=\"dataframe\">\n",
       "  <thead>\n",
       "    <tr style=\"text-align: right;\">\n",
       "      <th></th>\n",
       "      <th>as</th>\n",
       "      <th>dda</th>\n",
       "      <th>ML</th>\n",
       "      <th>MB</th>\n",
       "      <th>IT</th>\n",
       "      <th>MQ</th>\n",
       "    </tr>\n",
       "  </thead>\n",
       "  <tbody>\n",
       "    <tr>\n",
       "      <th>0</th>\n",
       "      <td>2021-09-14</td>\n",
       "      <td>2021-09-14</td>\n",
       "      <td>NaT</td>\n",
       "      <td>NaT</td>\n",
       "      <td>NaT</td>\n",
       "      <td>2021-09-14</td>\n",
       "    </tr>\n",
       "  </tbody>\n",
       "</table>\n",
       "</div>"
      ],
      "text/plain": [
       "          as        dda  ML  MB  IT         MQ\n",
       "0 2021-09-14 2021-09-14 NaT NaT NaT 2021-09-14"
      ]
     },
     "execution_count": 2,
     "metadata": {},
     "output_type": "execute_result"
    }
   ],
   "source": [
    "# Add exame's dates dictonary\n",
    "dic = {\n",
    "    'as': ['14/09/2021'],\n",
    "    'dda': ['14/09/2021'],\n",
    "    'ML': [pd.NaT],\n",
    "    'MB': [pd.NaT],\n",
    "    'IT': [pd.NaT],\n",
    "    'MQ': ['14/09/2021'],\n",
    "}\n",
    "\n",
    "# Add cfu dictonary\n",
    "cfus = {\n",
    "    'MQ': 8.,\n",
    "    'as': 10.,\n",
    "    'dda': 8.,\n",
    "    'IT': 6.,\n",
    "    'ML': 9.,\n",
    "    'MB': 6.\n",
    "}\n",
    "\n",
    "df = pd.DataFrame(dic).T\n",
    "for ind in df.index:\n",
    "    df.loc[ind, :] = pd.to_datetime(df.loc[ind, :], format='%d/%m/%Y')\n",
    "\n",
    "df.T"
   ]
  },
  {
   "cell_type": "code",
   "execution_count": 4,
   "metadata": {},
   "outputs": [
    {
     "data": {
      "text/html": [
       "<div>\n",
       "<style scoped>\n",
       "    .dataframe tbody tr th:only-of-type {\n",
       "        vertical-align: middle;\n",
       "    }\n",
       "\n",
       "    .dataframe tbody tr th {\n",
       "        vertical-align: top;\n",
       "    }\n",
       "\n",
       "    .dataframe thead th {\n",
       "        text-align: right;\n",
       "    }\n",
       "</style>\n",
       "<table border=\"1\" class=\"dataframe\">\n",
       "  <thead>\n",
       "    <tr style=\"text-align: right;\">\n",
       "      <th></th>\n",
       "      <th>as</th>\n",
       "      <th>dda</th>\n",
       "    </tr>\n",
       "  </thead>\n",
       "  <tbody>\n",
       "    <tr>\n",
       "      <th>0</th>\n",
       "      <td>-67d 8h 41m</td>\n",
       "      <td>-67d 8h 41m</td>\n",
       "    </tr>\n",
       "    <tr>\n",
       "      <th>cfu</th>\n",
       "      <td>10.0</td>\n",
       "      <td>8.0</td>\n",
       "    </tr>\n",
       "  </tbody>\n",
       "</table>\n",
       "</div>"
      ],
      "text/plain": [
       "              as          dda\n",
       "0    -67d 8h 41m  -67d 8h 41m\n",
       "cfu         10.0          8.0"
      ]
     },
     "execution_count": 4,
     "metadata": {},
     "output_type": "execute_result"
    }
   ],
   "source": [
    "def days_hours_minutes(td):\n",
    "    string = f'{td.days}d {td.seconds//3600}h {(td.seconds//60)%60}m'\n",
    "    return string\n",
    "\n",
    "\n",
    "df1 = df.copy()\n",
    "m = len(df1.columns)\n",
    "\n",
    "for i in range(m):\n",
    "    for j, subject in enumerate(df1.index):\n",
    "        delta = df.loc[subject, i] - pd.Timestamp.today()\n",
    "        df1.iloc[j, i] = days_hours_minutes(delta)\n",
    "\n",
    "df1 = df1.replace('nand, nanh, nanm', 'nan')\n",
    "df1['cfu'] = df1.index.map(cfus)\n",
    "df1.loc['cp', 'cfu'] = '6/8'\n",
    "\n",
    "df1.loc[df1.index.isin(['as', 'dda'])].T"
   ]
  }
 ],
 "metadata": {
  "interpreter": {
   "hash": "6419de5ba52feecbb0344f9577d8821a2c03ea98058628cdb6e40307adf4f26c"
  },
  "kernelspec": {
   "display_name": "Python 3.8.7 64-bit",
   "name": "python3"
  },
  "language_info": {
   "codemirror_mode": {
    "name": "ipython",
    "version": 3
   },
   "file_extension": ".py",
   "mimetype": "text/x-python",
   "name": "python",
   "nbconvert_exporter": "python",
   "pygments_lexer": "ipython3",
   "version": "3.8.7"
  },
  "toc": {
   "base_numbering": 1,
   "nav_menu": {},
   "number_sections": true,
   "sideBar": true,
   "skip_h1_title": false,
   "title_cell": "Table of Contents",
   "title_sidebar": "Contents",
   "toc_cell": false,
   "toc_position": {},
   "toc_section_display": true,
   "toc_window_display": false
  }
 },
 "nbformat": 4,
 "nbformat_minor": 4
}
